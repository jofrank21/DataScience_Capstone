{
  "nbformat": 4,
  "nbformat_minor": 0,
  "metadata": {
    "colab": {
      "name": "Data Science Capstone - Week1.ipynb",
      "provenance": [],
      "authorship_tag": "ABX9TyPU5h5c75Ad3j5QT2geMm89",
      "include_colab_link": false
    },
    "kernelspec": {
      "name": "python3",
      "display_name": "Python 3"
    }
  },
  "cells": [
    {
      "cell_type": "markdown",
      "metadata": {
        "id": "view-in-github",
        "colab_type": "text"
      },
      "source": [
        ""
      ]
      
    },
    {
      "cell_type": "markdown",
      "metadata": {
        "id": "DcHfMDXBNkUl",
        "colab_type": "text"
      },
      "source": [
        "#Data Science Capstone\n",
        "\n",
        "This notebook will mainly be used for the Course Applied Data Science Capstone"
      ]
    },
    {
      "cell_type": "code",
      "metadata": {
        "id": "HSWEXz0YK8U5",
        "colab_type": "code",
        "colab": {}
      },
      "source": [
        "import pandas as pd\n",
        "import numpy as np"
      ],
      "execution_count": 0,
      "outputs": []
    },
    {
      "cell_type": "code",
      "metadata": {
        "id": "gAaKBYCiNys2",
        "colab_type": "code",
        "colab": {
          "base_uri": "https://localhost:8080/",
          "height": 34
        },
        "outputId": "a4869490-72eb-48d8-d53c-8dc54a57e9cc"
      },
      "source": [
        "print('Hello Capstone Project Course!')"
      ],
      "execution_count": 2,
      "outputs": [
        {
          "output_type": "stream",
          "text": [
            "Hello Capstone Project Course!\n"
          ],
          "name": "stdout"
        }
      ]
    },
    {
      "cell_type": "code",
      "metadata": {
        "id": "GF0ptlKEN2KJ",
        "colab_type": "code",
        "colab": {}
      },
      "source": [
        ""
      ],
      "execution_count": 0,
      "outputs": []
    }
  ]
}
