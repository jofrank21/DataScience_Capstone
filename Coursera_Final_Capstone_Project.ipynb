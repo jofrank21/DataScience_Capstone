{
  "nbformat": 4,
  "nbformat_minor": 0,
  "metadata": {
    "colab": {
      "name": "Coursera_Final_Capstone_Project.ipynb",
      "provenance": [],
      "collapsed_sections": [],
      "authorship_tag": "ABX9TyMkRwwQcrZboHqG1t1gw6ss"
    },
    "kernelspec": {
      "name": "python3",
      "display_name": "Python 3"
    }
  },
  "cells": [
    {
      "cell_type": "markdown",
      "metadata": {
        "id": "jHC7JI3MuVlD",
        "colab_type": "text"
      },
      "source": [
        "#Capstone Project - The Battle of the Neighborhoods"
      ]
    },
    {
      "cell_type": "markdown",
      "metadata": {
        "id": "WMadu8cJufLE",
        "colab_type": "text"
      },
      "source": [
        "This is the final project for the Applied Data Science Capstone by IBM & Coursera"
      ]
    },
    {
      "cell_type": "markdown",
      "metadata": {
        "id": "tYaqrK0FufAH",
        "colab_type": "text"
      },
      "source": [
        "###Table of Contents\n",
        "\n",
        "* [Week 1 - Business Problem and Data](#week1)\n",
        "   * [Business Problem](#problem)\n",
        "   * [Data](#data)\n",
        "\n",
        "* [Week 2 - Analysis](#week2)\n",
        "\n"
      ]
    },
    {
      "cell_type": "markdown",
      "metadata": {
        "id": "-HmPWRy0uvnH",
        "colab_type": "text"
      },
      "source": [
        "##Week 1 - Business problem and required data <a name=\"week1\"></a>"
      ]
    },
    {
      "cell_type": "markdown",
      "metadata": {
        "id": "e_hlYi2fuY_5",
        "colab_type": "text"
      },
      "source": [
        "###Business Problem <a name=\"problem\"></a>"
      ]
    },
    {
      "cell_type": "markdown",
      "metadata": {
        "id": "oIASd2Now60_",
        "colab_type": "text"
      },
      "source": [
        "The first and also one of the most crucial steps in opening up a new venue, such as a restaurant or super market, is to find a suitable location for the new venue. This problem holds true for any kind of venue, that is dependent on customers and competition. Solving this problem is therefore of high interest to everyone, who is thinking about opening up a new venue.\n",
        "\n",
        "For this project I will try to solve this location problem for one particular kind of venue, by finding the best possible location to open up a new **ice-cream shop** in Berlin, Germany.\n",
        "\n",
        "In order to decide if a location is suitable, I will focus on the following conditions:\n",
        "\n",
        "* I will try to find a location that has a **lot of food related venues**, indicating that the location is frequented by a lot of people looking for something to eat. However, there should be little or **no ice-cream shops** in the vicinity of the location, in order to reduce competition, when opening up the new venue.\n",
        "\n",
        "* An additional condition on finding a suitable location, will be the **distance to the city center**. First of all there are more people in the center of Berlin due to denser population and second, there are also more tourists around. Both adding further to the number of potential customers."
      ]
    },
    {
      "cell_type": "markdown",
      "metadata": {
        "id": "arcgF-F2wlJA",
        "colab_type": "text"
      },
      "source": [
        "###Data <a name=\"data\"></a>"
      ]
    },
    {
      "cell_type": "markdown",
      "metadata": {
        "id": "xQHcMZEHvePw",
        "colab_type": "text"
      },
      "source": [
        "Instead of resorting to the different neighborhoods in Berlin, which vary heavily in size, I will resort to using evenly sized areas.\n",
        "The size of each area as well as the total area of interest, will be defined in a later stage.\n",
        "\n",
        "Given the business problem, we need the following **data points** for each area, to find suitable locations for opening up an ice-cream shop:\n",
        "\n",
        "* Number of other food related venues (*Attractiveness of the area*)\n",
        "* Number of ice-cream shops and distance from the location (*Competition in the area*)\n",
        "* Distance of the location to the city center (*Number of potential customers*)  \n",
        "\n",
        "\\\n",
        "**Data Sources**  \n",
        "\n",
        "The following data sources will be used in the course of this project:\n",
        "* Venue data (venue location, number and type of venue) will be provided by the *Foursquare API* \n",
        "* Geospatial data will be taken from different providers, such as *geocoder.ca*\n",
        "* Geolocation of the city center of Berlin will be taken from *Wikipedia*"
      ]
    },
    {
      "cell_type": "markdown",
      "metadata": {
        "id": "o1GdtRCt6zKc",
        "colab_type": "text"
      },
      "source": [
        "---"
      ]
    },
    {
      "cell_type": "markdown",
      "metadata": {
        "id": "f0zMmttEvBxZ",
        "colab_type": "text"
      },
      "source": [
        "##Week 2 - Analysis <a name=\"week2\"></a>"
      ]
    },
    {
      "cell_type": "code",
      "metadata": {
        "id": "7i5MJRj3vDYk",
        "colab_type": "code",
        "colab": {}
      },
      "source": [
        ""
      ],
      "execution_count": 0,
      "outputs": []
    }
  ]
}